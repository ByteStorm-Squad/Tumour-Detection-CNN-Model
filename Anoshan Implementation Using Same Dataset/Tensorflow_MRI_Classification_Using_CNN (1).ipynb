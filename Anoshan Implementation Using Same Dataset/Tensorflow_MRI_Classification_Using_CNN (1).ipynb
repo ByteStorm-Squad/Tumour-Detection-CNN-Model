{
  "cells": [
    {
      "cell_type": "markdown",
      "id": "large-cleaner",
      "metadata": {
        "papermill": {
          "duration": 0.031315,
          "end_time": "2021-08-12T12:50:34.735318",
          "exception": false,
          "start_time": "2021-08-12T12:50:34.704003",
          "status": "completed"
        },
        "tags": [],
        "id": "large-cleaner"
      },
      "source": [
        "# Introduction"
      ]
    },
    {
      "cell_type": "markdown",
      "id": "inappropriate-bracelet",
      "metadata": {
        "papermill": {
          "duration": 0.030098,
          "end_time": "2021-08-12T12:50:34.795898",
          "exception": false,
          "start_time": "2021-08-12T12:50:34.765800",
          "status": "completed"
        },
        "tags": [],
        "id": "inappropriate-bracelet"
      },
      "source": [
        "In this notebook, I've used **CNN** to perform Image Classification on the Brain Tumor dataset.<br>"
      ]
    },
    {
      "cell_type": "code",
      "source": [
        "# Get Dataset\n",
        "!git clone https://github.com/SartajBhuvaji/Brain-Tumor-Classification-DataSet"
      ],
      "metadata": {
        "colab": {
          "base_uri": "https://localhost:8080/"
        },
        "id": "_kJrbfNcuFEF",
        "outputId": "c5555d17-240e-4186-f4ad-c18a2ca070c2"
      },
      "id": "_kJrbfNcuFEF",
      "execution_count": 1,
      "outputs": [
        {
          "output_type": "stream",
          "name": "stdout",
          "text": [
            "Cloning into 'Brain-Tumor-Classification-DataSet'...\n",
            "remote: Enumerating objects: 3039, done.\u001b[K\n",
            "remote: Counting objects: 100% (4/4), done.\u001b[K\n",
            "remote: Compressing objects: 100% (4/4), done.\u001b[K\n",
            "remote: Total 3039 (delta 0), reused 0 (delta 0), pack-reused 3035\u001b[K\n",
            "Receiving objects: 100% (3039/3039), 79.25 MiB | 49.21 MiB/s, done.\n"
          ]
        }
      ]
    },
    {
      "cell_type": "code",
      "source": [
        "!pwd"
      ],
      "metadata": {
        "colab": {
          "base_uri": "https://localhost:8080/"
        },
        "id": "DQTVcFvkuHJ7",
        "outputId": "45914d2c-97ee-493d-cecd-ccac4a984fea"
      },
      "id": "DQTVcFvkuHJ7",
      "execution_count": null,
      "outputs": [
        {
          "output_type": "stream",
          "name": "stdout",
          "text": [
            "/content\n"
          ]
        }
      ]
    },
    {
      "cell_type": "markdown",
      "id": "european-completion",
      "metadata": {
        "papermill": {
          "duration": 0.030921,
          "end_time": "2021-08-12T12:50:35.100161",
          "exception": false,
          "start_time": "2021-08-12T12:50:35.069240",
          "status": "completed"
        },
        "tags": [],
        "id": "european-completion"
      },
      "source": [
        "# Importing Libraries"
      ]
    },
    {
      "cell_type": "code",
      "execution_count": null,
      "id": "super-artist",
      "metadata": {
        "_kg_hide-output": true,
        "execution": {
          "iopub.execute_input": "2021-08-12T12:50:35.175070Z",
          "iopub.status.busy": "2021-08-12T12:50:35.174549Z",
          "iopub.status.idle": "2021-08-12T12:50:41.909390Z",
          "shell.execute_reply": "2021-08-12T12:50:41.907174Z",
          "shell.execute_reply.started": "2021-08-12T12:46:55.786982Z"
        },
        "papermill": {
          "duration": 6.777938,
          "end_time": "2021-08-12T12:50:41.909603",
          "exception": false,
          "start_time": "2021-08-12T12:50:35.131665",
          "status": "completed"
        },
        "scrolled": true,
        "tags": [],
        "id": "super-artist"
      },
      "outputs": [],
      "source": [
        "import matplotlib.pyplot as plt\n",
        "import numpy as np\n",
        "import pandas as pd\n",
        "import seaborn as sns\n",
        "import cv2\n",
        "import tensorflow as tf\n",
        "from tensorflow.keras.preprocessing.image import ImageDataGenerator\n",
        "from tqdm import tqdm\n",
        "import os\n",
        "from sklearn.utils import shuffle\n",
        "from sklearn.model_selection import train_test_split\n",
        "from tensorflow.keras.applications import EfficientNetB0\n",
        "from tensorflow.keras.callbacks import EarlyStopping, ReduceLROnPlateau, TensorBoard, ModelCheckpoint\n",
        "from sklearn.metrics import classification_report,confusion_matrix\n",
        "import ipywidgets as widgets\n",
        "import io\n",
        "from PIL import Image\n",
        "from IPython.display import display,clear_output\n",
        "from warnings import filterwarnings\n",
        "from tqdm import tqdm\n",
        "import pickle\n",
        "import random\n",
        "from sklearn.utils import shuffle\n"
      ]
    },
    {
      "cell_type": "markdown",
      "id": "posted-internet",
      "metadata": {
        "papermill": {
          "duration": 0.065978,
          "end_time": "2021-08-12T12:50:42.053436",
          "exception": false,
          "start_time": "2021-08-12T12:50:41.987458",
          "status": "completed"
        },
        "tags": [],
        "id": "posted-internet"
      },
      "source": [
        "---"
      ]
    },
    {
      "cell_type": "markdown",
      "id": "experimental-sheep",
      "metadata": {
        "papermill": {
          "duration": 0.061658,
          "end_time": "2021-08-12T12:50:42.179796",
          "exception": false,
          "start_time": "2021-08-12T12:50:42.118138",
          "status": "completed"
        },
        "tags": [],
        "id": "experimental-sheep"
      },
      "source": [
        "# Color"
      ]
    },
    {
      "cell_type": "code",
      "execution_count": null,
      "id": "coated-africa",
      "metadata": {
        "execution": {
          "iopub.execute_input": "2021-08-12T12:50:42.325177Z",
          "iopub.status.busy": "2021-08-12T12:50:42.324346Z",
          "iopub.status.idle": "2021-08-12T12:50:42.582446Z",
          "shell.execute_reply": "2021-08-12T12:50:42.583432Z",
          "shell.execute_reply.started": "2021-08-12T12:47:03.185996Z"
        },
        "papermill": {
          "duration": 0.340312,
          "end_time": "2021-08-12T12:50:42.583653",
          "exception": false,
          "start_time": "2021-08-12T12:50:42.243341",
          "status": "completed"
        },
        "tags": [],
        "colab": {
          "base_uri": "https://localhost:8080/",
          "height": 320
        },
        "id": "coated-africa",
        "outputId": "a2c16755-b49f-48e9-bc17-d3ee5dfc5c43"
      },
      "outputs": [
        {
          "output_type": "display_data",
          "data": {
            "text/plain": [
              "<Figure size 500x100 with 1 Axes>"
            ],
            "image/png": "[encoded data removed]"
          },
          "metadata": {}
        },
        {
          "output_type": "display_data",
          "data": {
            "text/plain": [
              "<Figure size 500x100 with 1 Axes>"
            ],
            "image/png": "[encoded data removed]"
          },
          "metadata": {}
        },
        {
          "output_type": "display_data",
          "data": {
            "text/plain": [
              "<Figure size 500x100 with 1 Axes>"
            ],
            "image/png": "[encoded data removed]"
          },
          "metadata": {}
        }
      ],
      "source": [
        "colors_dark = [\"#1F1F1F\", \"#313131\", '#636363', '#AEAEAE', '#DADADA']\n",
        "colors_red = [\"#331313\", \"#582626\", '#9E1717', '#D35151', '#E9B4B4']\n",
        "colors_green = ['#01411C','#4B6F44','#4F7942','#74C365','#D0F0C0']\n",
        "\n",
        "sns.palplot(colors_dark)\n",
        "sns.palplot(colors_green)\n",
        "sns.palplot(colors_red)"
      ]
    },
    {
      "cell_type": "markdown",
      "id": "republican-samba",
      "metadata": {
        "papermill": {
          "duration": 0.063074,
          "end_time": "2021-08-12T12:50:42.712403",
          "exception": false,
          "start_time": "2021-08-12T12:50:42.649329",
          "status": "completed"
        },
        "tags": [],
        "id": "republican-samba"
      },
      "source": [
        "---"
      ]
    },
    {
      "cell_type": "markdown",
      "id": "hidden-immigration",
      "metadata": {
        "papermill": {
          "duration": 0.064673,
          "end_time": "2021-08-12T12:50:42.840614",
          "exception": false,
          "start_time": "2021-08-12T12:50:42.775941",
          "status": "completed"
        },
        "tags": [],
        "id": "hidden-immigration"
      },
      "source": [
        "# Data Preperation"
      ]
    },
    {
      "cell_type": "code",
      "execution_count": null,
      "id": "italian-identity",
      "metadata": {
        "execution": {
          "iopub.execute_input": "2021-08-12T12:50:42.975048Z",
          "iopub.status.busy": "2021-08-12T12:50:42.974178Z",
          "iopub.status.idle": "2021-08-12T12:50:42.976430Z",
          "shell.execute_reply": "2021-08-12T12:50:42.975783Z",
          "shell.execute_reply.started": "2021-08-12T12:47:03.520113Z"
        },
        "papermill": {
          "duration": 0.072914,
          "end_time": "2021-08-12T12:50:42.976596",
          "exception": false,
          "start_time": "2021-08-12T12:50:42.903682",
          "status": "completed"
        },
        "tags": [],
        "id": "italian-identity"
      },
      "outputs": [],
      "source": [
        "labels = ['glioma_tumor','no_tumor','meningioma_tumor','pituitary_tumor']"
      ]
    },
    {
      "cell_type": "markdown",
      "id": "duplicate-israel",
      "metadata": {
        "papermill": {
          "duration": 0.06252,
          "end_time": "2021-08-12T12:50:43.103425",
          "exception": false,
          "start_time": "2021-08-12T12:50:43.040905",
          "status": "completed"
        },
        "tags": [],
        "id": "duplicate-israel"
      },
      "source": [
        "We start off by appending all the images from the  directories into a Python list and then converting them into numpy arrays after resizing it."
      ]
    },
    {
      "cell_type": "code",
      "source": [
        "# # Define necessary constants\n",
        "# MAIN_DIR = '/content/Brain-Tumor-Classification-DataSet'"
      ],
      "metadata": {
        "id": "srCT78GnuRx0"
      },
      "id": "srCT78GnuRx0",
      "execution_count": null,
      "outputs": []
    },
    {
      "cell_type": "code",
      "execution_count": null,
      "id": "seven-interview",
      "metadata": {
        "execution": {
          "iopub.execute_input": "2021-08-12T12:50:43.238174Z",
          "iopub.status.busy": "2021-08-12T12:50:43.237267Z",
          "iopub.status.idle": "2021-08-12T12:51:08.632552Z",
          "shell.execute_reply": "2021-08-12T12:51:08.632075Z",
          "shell.execute_reply.started": "2021-08-12T12:47:03.528074Z"
        },
        "papermill": {
          "duration": 25.467409,
          "end_time": "2021-08-12T12:51:08.632685",
          "exception": false,
          "start_time": "2021-08-12T12:50:43.165276",
          "status": "completed"
        },
        "tags": [],
        "id": "seven-interview"
      },
      "outputs": [],
      "source": [
        "# X_train = []\n",
        "# y_train = []\n",
        "# image_size = 150\n",
        "# for i in labels:\n",
        "#     folderPath = os.path.join(MAIN_DIR,'Training',i)\n",
        "#     for j in tqdm(os.listdir(folderPath)):\n",
        "#         img = cv2.imread(os.path.join(folderPath,j))\n",
        "#         img = cv2.resize(img,(image_size, image_size))\n",
        "#         X_train.append(img)\n",
        "#         y_train.append(i)\n",
        "\n",
        "# for i in labels:\n",
        "#     folderPath = os.path.join(MAIN_DIR,'Testing',i)\n",
        "#     for j in tqdm(os.listdir(folderPath)):\n",
        "#         img = cv2.imread(os.path.join(folderPath,j))\n",
        "#         img = cv2.resize(img,(image_size,image_size))\n",
        "#         X_train.append(img)\n",
        "#         y_train.append(i)\n",
        "\n",
        "# X_train = np.array(X_train)\n",
        "# y_train = np.array(y_train)"
      ]
    },
    {
      "cell_type": "code",
      "source": [
        "# Define necessary constants\n",
        "TEST_DIR = '/content/Brain-Tumor-Classification-DataSet/Testing'\n",
        "TRAIN_DIR = '/content/Brain-Tumor-Classification-DataSet/Training'\n",
        "IMG_SIZE = 224\n",
        "CATEGORIES = [\"glioma_tumor\",\"meningioma_tumor\",\"no_tumor\",\"pituitary_tumor\"]"
      ],
      "metadata": {
        "id": "-diha8M4vS1c"
      },
      "id": "-diha8M4vS1c",
      "execution_count": null,
      "outputs": []
    },
    {
      "cell_type": "code",
      "source": [
        "training_data = []\n",
        "\n",
        "def create_training_data():\n",
        "    for category in CATEGORIES:\n",
        "        path = os.path.join(TRAIN_DIR,category)\n",
        "        class_num = CATEGORIES.index(category)\n",
        "        for img in tqdm(os.listdir(path)):\n",
        "          img_array = cv2.imread(os.path.join(path,img) ,cv2.IMREAD_COLOR)\n",
        "          new_array = cv2.resize(img_array, (IMG_SIZE, IMG_SIZE))\n",
        "          training_data.append([new_array, class_num])\n",
        "\n",
        "    # random.shuffle(training_data)\n",
        "\n",
        "create_training_data()\n",
        "#np.save('train_data.npy', training_data)\n",
        "print(len(training_data))\n",
        "\n",
        "print(\"train\")\n",
        "print()\n",
        "X_train = np.array([i[0] for i in training_data]).reshape(-1,IMG_SIZE,IMG_SIZE,3)\n",
        "y_train = [i[1] for i in training_data]\n",
        "\n",
        "pickle_out = open(\"X_train.pickle\",\"wb\")\n",
        "pickle.dump(X_train, pickle_out)\n",
        "pickle_out.close()\n",
        "\n",
        "pickle_out = open(\"Y_train.pickle\",\"wb\")\n",
        "pickle.dump(Y_train, pickle_out)\n",
        "pickle_out.close()"
      ],
      "metadata": {
        "colab": {
          "base_uri": "https://localhost:8080/",
          "height": 365
        },
        "id": "624j1bcSvMMz",
        "outputId": "5745b344-b04e-4e2e-c2a3-bb821359f51b"
      },
      "id": "624j1bcSvMMz",
      "execution_count": null,
      "outputs": [
        {
          "output_type": "stream",
          "name": "stderr",
          "text": [
            "100%|██████████| 826/826 [00:02<00:00, 337.44it/s]\n",
            "100%|██████████| 822/822 [00:02<00:00, 355.19it/s]\n",
            "100%|██████████| 395/395 [00:00<00:00, 451.05it/s]\n",
            "100%|██████████| 827/827 [00:02<00:00, 311.45it/s]\n"
          ]
        },
        {
          "output_type": "stream",
          "name": "stdout",
          "text": [
            "2870\n",
            "train\n",
            "\n"
          ]
        },
        {
          "output_type": "error",
          "ename": "NameError",
          "evalue": "ignored",
          "traceback": [
            "\u001b[0;31m---------------------------------------------------------------------------\u001b[0m",
            "\u001b[0;31mNameError\u001b[0m                                 Traceback (most recent call last)",
            "\u001b[0;32m<ipython-input-9-3237b6a6375a>\u001b[0m in \u001b[0;36m<cell line: 28>\u001b[0;34m()\u001b[0m\n\u001b[1;32m     26\u001b[0m \u001b[0;34m\u001b[0m\u001b[0m\n\u001b[1;32m     27\u001b[0m \u001b[0mpickle_out\u001b[0m \u001b[0;34m=\u001b[0m \u001b[0mopen\u001b[0m\u001b[0;34m(\u001b[0m\u001b[0;34m\"Y_train.pickle\"\u001b[0m\u001b[0;34m,\u001b[0m\u001b[0;34m\"wb\"\u001b[0m\u001b[0;34m)\u001b[0m\u001b[0;34m\u001b[0m\u001b[0;34m\u001b[0m\u001b[0m\n\u001b[0;32m---> 28\u001b[0;31m \u001b[0mpickle\u001b[0m\u001b[0;34m.\u001b[0m\u001b[0mdump\u001b[0m\u001b[0;34m(\u001b[0m\u001b[0mY_train\u001b[0m\u001b[0;34m,\u001b[0m \u001b[0mpickle_out\u001b[0m\u001b[0;34m)\u001b[0m\u001b[0;34m\u001b[0m\u001b[0;34m\u001b[0m\u001b[0m\n\u001b[0m\u001b[1;32m     29\u001b[0m \u001b[0mpickle_out\u001b[0m\u001b[0;34m.\u001b[0m\u001b[0mclose\u001b[0m\u001b[0;34m(\u001b[0m\u001b[0;34m)\u001b[0m\u001b[0;34m\u001b[0m\u001b[0;34m\u001b[0m\u001b[0m\n",
            "\u001b[0;31mNameError\u001b[0m: name 'Y_train' is not defined"
          ]
        }
      ]
    },
    {
      "cell_type": "code",
      "source": [
        "# Creating testing dataset\n",
        "testing_data = []\n",
        "\n",
        "def create_testing_data():\n",
        "    for category in CATEGORIES:\n",
        "        path = os.path.join(TEST_DIR,category)\n",
        "        class_num = CATEGORIES.index(category)\n",
        "\n",
        "        for img in tqdm(os.listdir(path)):\n",
        "          img_array = cv2.imread(os.path.join(path,img) ,cv2.IMREAD_COLOR)\n",
        "          new_array = cv2.resize(img_array, (IMG_SIZE, IMG_SIZE))\n",
        "          testing_data.append([new_array, class_num])\n",
        "\n",
        "    # random.shuffle(testing_data)\n",
        "\n",
        "create_testing_data()\n",
        "#np.save('testing_data.npy', testing_data)\n",
        "print(len(testing_data))\n",
        "\n",
        "print(\"testing\")\n",
        "print()\n",
        "X_test= np.array([i[0] for i in testing_data]).reshape(-1,IMG_SIZE,IMG_SIZE,3)\n",
        "y_test = [i[1] for i in testing_data]\n",
        "\n",
        "pickle_out = open(\"X_test.pickle\",\"wb\")\n",
        "pickle.dump(X_test, pickle_out)\n",
        "pickle_out.close()\n",
        "\n",
        "pickle_out = open(\"Y_test.pickle\",\"wb\")\n",
        "pickle.dump(Y_test, pickle_out)\n",
        "pickle_out.close()"
      ],
      "metadata": {
        "id": "P3eFZfhAvXy2"
      },
      "id": "P3eFZfhAvXy2",
      "execution_count": null,
      "outputs": []
    },
    {
      "cell_type": "code",
      "source": [
        "print(y_train)"
      ],
      "metadata": {
        "id": "IQEZC1S9duaI"
      },
      "id": "IQEZC1S9duaI",
      "execution_count": null,
      "outputs": []
    },
    {
      "cell_type": "code",
      "execution_count": null,
      "id": "simple-chain",
      "metadata": {
        "_kg_hide-input": true,
        "execution": {
          "iopub.execute_input": "2021-08-12T12:51:08.880923Z",
          "iopub.status.busy": "2021-08-12T12:51:08.879937Z",
          "iopub.status.idle": "2021-08-12T12:51:09.197519Z",
          "shell.execute_reply": "2021-08-12T12:51:09.197929Z",
          "shell.execute_reply.started": "2021-08-12T12:47:33.997305Z"
        },
        "papermill": {
          "duration": 0.463376,
          "end_time": "2021-08-12T12:51:09.198072",
          "exception": false,
          "start_time": "2021-08-12T12:51:08.734696",
          "status": "completed"
        },
        "tags": [],
        "id": "simple-chain"
      },
      "outputs": [],
      "source": [
        "k=0\n",
        "fig, ax = plt.subplots(1,4,figsize=(20,20))\n",
        "fig.text(s='Sample Image From Each Label',size=18,fontweight='bold',\n",
        "             fontname='monospace',color=colors_dark[1],y=0.62,x=0.4,alpha=0.8)\n",
        "for i in range(len(CATEGORIES)):\n",
        "    j=0\n",
        "    while True :\n",
        "        if y_train[j]==i:\n",
        "            ax[k].imshow(X_train[j])\n",
        "            ax[k].set_title(CATEGORIES[y_train[j]])\n",
        "            ax[k].axis('off')\n",
        "            k+=1\n",
        "            break\n",
        "        j+=1"
      ]
    },
    {
      "cell_type": "code",
      "execution_count": null,
      "id": "abroad-class",
      "metadata": {
        "execution": {
          "iopub.execute_input": "2021-08-12T12:51:09.426203Z",
          "iopub.status.busy": "2021-08-12T12:51:09.424941Z",
          "iopub.status.idle": "2021-08-12T12:51:09.496089Z",
          "shell.execute_reply": "2021-08-12T12:51:09.495627Z",
          "shell.execute_reply.started": "2021-08-12T12:47:34.378365Z"
        },
        "papermill": {
          "duration": 0.190076,
          "end_time": "2021-08-12T12:51:09.496218",
          "exception": false,
          "start_time": "2021-08-12T12:51:09.306142",
          "status": "completed"
        },
        "tags": [],
        "id": "abroad-class"
      },
      "outputs": [],
      "source": [
        "X_train, y_train = shuffle(X_train,y_train, random_state=101)"
      ]
    },
    {
      "cell_type": "code",
      "execution_count": null,
      "id": "blind-corrections",
      "metadata": {
        "execution": {
          "iopub.execute_input": "2021-08-12T12:51:09.736256Z",
          "iopub.status.busy": "2021-08-12T12:51:09.735735Z",
          "iopub.status.idle": "2021-08-12T12:51:09.741666Z",
          "shell.execute_reply": "2021-08-12T12:51:09.741247Z",
          "shell.execute_reply.started": "2021-08-12T12:47:34.454436Z"
        },
        "papermill": {
          "duration": 0.129068,
          "end_time": "2021-08-12T12:51:09.741776",
          "exception": false,
          "start_time": "2021-08-12T12:51:09.612708",
          "status": "completed"
        },
        "tags": [],
        "id": "blind-corrections"
      },
      "outputs": [],
      "source": [
        "X_train.shape"
      ]
    },
    {
      "cell_type": "markdown",
      "id": "played-standard",
      "metadata": {
        "papermill": {
          "duration": 0.107707,
          "end_time": "2021-08-12T12:51:09.959195",
          "exception": false,
          "start_time": "2021-08-12T12:51:09.851488",
          "status": "completed"
        },
        "tags": [],
        "id": "played-standard"
      },
      "source": [
        "Dividing the dataset into **Training** and **Testing** sets."
      ]
    },
    {
      "cell_type": "code",
      "execution_count": null,
      "id": "coastal-specialist",
      "metadata": {
        "execution": {
          "iopub.execute_input": "2021-08-12T12:51:10.195104Z",
          "iopub.status.busy": "2021-08-12T12:51:10.193768Z",
          "iopub.status.idle": "2021-08-12T12:51:10.260233Z",
          "shell.execute_reply": "2021-08-12T12:51:10.259735Z",
          "shell.execute_reply.started": "2021-08-12T12:47:34.465862Z"
        },
        "papermill": {
          "duration": 0.188211,
          "end_time": "2021-08-12T12:51:10.260403",
          "exception": false,
          "start_time": "2021-08-12T12:51:10.072192",
          "status": "completed"
        },
        "tags": [],
        "id": "coastal-specialist"
      },
      "outputs": [],
      "source": [
        "# X_train,X_test,y_train,y_test = train_test_split(X_train,y_train, test_size=0.1,random_state=101)"
      ]
    },
    {
      "cell_type": "markdown",
      "id": "accepting-aaron",
      "metadata": {
        "papermill": {
          "duration": 0.157511,
          "end_time": "2021-08-12T12:51:10.534884",
          "exception": false,
          "start_time": "2021-08-12T12:51:10.377373",
          "status": "completed"
        },
        "tags": [],
        "id": "accepting-aaron"
      },
      "source": [
        "Performing **One Hot Encoding** on the labels after converting it into numerical values:"
      ]
    },
    {
      "cell_type": "code",
      "execution_count": null,
      "id": "yellow-survey",
      "metadata": {
        "execution": {
          "iopub.execute_input": "2021-08-12T12:51:10.967248Z",
          "iopub.status.busy": "2021-08-12T12:51:10.966477Z",
          "iopub.status.idle": "2021-08-12T12:51:10.971724Z",
          "shell.execute_reply": "2021-08-12T12:51:10.970735Z",
          "shell.execute_reply.started": "2021-08-12T12:47:34.538903Z"
        },
        "papermill": {
          "duration": 0.211868,
          "end_time": "2021-08-12T12:51:10.971886",
          "exception": false,
          "start_time": "2021-08-12T12:51:10.760018",
          "status": "completed"
        },
        "tags": [],
        "id": "yellow-survey"
      },
      "outputs": [],
      "source": [
        "# y_train_new = []\n",
        "# for i in y_train:\n",
        "#     y_train_new.append(CATEGORIES.index(i))\n",
        "# y_train = y_train_new\n",
        "y_train = tf.keras.utils.to_categorical(y_train)\n",
        "\n",
        "\n",
        "# y_test_new = []\n",
        "# for i in y_test:\n",
        "#     y_test_new.append(CATEGORIES.index(i))\n",
        "# y_test = y_test_new\n",
        "y_test = tf.keras.utils.to_categorical(y_test)"
      ]
    },
    {
      "cell_type": "markdown",
      "id": "toxic-script",
      "metadata": {
        "papermill": {
          "duration": 0.116998,
          "end_time": "2021-08-12T12:51:11.235632",
          "exception": false,
          "start_time": "2021-08-12T12:51:11.118634",
          "status": "completed"
        },
        "tags": [],
        "id": "toxic-script"
      },
      "source": [
        "---"
      ]
    },
    {
      "cell_type": "markdown",
      "id": "worthy-basis",
      "metadata": {
        "papermill": {
          "duration": 0.116078,
          "end_time": "2021-08-12T12:51:11.467712",
          "exception": false,
          "start_time": "2021-08-12T12:51:11.351634",
          "status": "completed"
        },
        "tags": [],
        "id": "worthy-basis"
      },
      "source": [
        "# CNN NETWORK Learning"
      ]
    },
    {
      "cell_type": "code",
      "execution_count": null,
      "id": "db09d690",
      "metadata": {
        "id": "db09d690"
      },
      "outputs": [],
      "source": [
        "import tensorflow as tf\n",
        "from tensorflow.keras.models import Sequential\n",
        "from tensorflow.keras.layers import Conv2D, MaxPooling2D, GlobalAveragePooling2D, Dropout, Flatten, Dense\n",
        "from tensorflow.keras.callbacks import TensorBoard, ModelCheckpoint, ReduceLROnPlateau\n",
        "\n",
        "# Define your image size\n",
        "image_size = 224  # Adjust this according to your dataset\n",
        "\n",
        "# Create a Sequential model\n",
        "model = Sequential()"
      ]
    },
    {
      "cell_type": "markdown",
      "id": "4f16c24f",
      "metadata": {
        "id": "4f16c24f"
      },
      "source": [
        "**GlobalAveragePooling2D** -> This layer acts similar to the Max Pooling layer in CNNs, the only difference being is that it uses the Average values instead of the Max value while *pooling*. This really helps in decreasing the computational load on the machine while training.\n",
        "<br><br>\n",
        "**Dropout** -> This layer omits some of the neurons at each step from the layer making the neurons more independent from the neibouring neurons. It helps in avoiding overfitting. Neurons to be ommitted are selected at random. The **rate** parameter is the liklihood of a neuron activation being set to 0, thus dropping out the neuron\n",
        "\n",
        "**Dense** -> This is the output layer which classifies the image into 1 of the 4 possible classes. It uses the **softmax** function which is a generalization of the sigmoid function."
      ]
    },
    {
      "cell_type": "code",
      "execution_count": null,
      "id": "a87e1421",
      "metadata": {
        "id": "a87e1421"
      },
      "outputs": [],
      "source": [
        "\n",
        "# Add convolutional layers\n",
        "model.add(Conv2D(32, (3, 3), activation='relu', input_shape=(image_size, image_size, 3)))\n",
        "model.add(MaxPooling2D((2, 2)))\n",
        "\n",
        "model.add(Conv2D(64, (3, 3), activation='relu'))\n",
        "model.add(MaxPooling2D((2, 2)))\n",
        "\n",
        "model.add(Conv2D(128, (3, 3), activation='relu'))\n",
        "model.add(MaxPooling2D((2, 2)))\n",
        "\n",
        "# Add global average pooling and dropout\n",
        "model.add(GlobalAveragePooling2D())\n",
        "model.add(Dropout(0.5))\n",
        "\n",
        "# Add a fully connected layer\n",
        "model.add(Dense(128, activation='relu'))\n",
        "\n",
        "# Add the output layer\n",
        "num_classes = 4  # Change this to the number of classes in your problem\n",
        "model.add(Dense(num_classes, activation='softmax'))"
      ]
    },
    {
      "cell_type": "code",
      "execution_count": null,
      "id": "d9222df0",
      "metadata": {
        "id": "d9222df0"
      },
      "outputs": [],
      "source": [
        "# Compile the model\n",
        "model.compile(loss='categorical_crossentropy', optimizer='adam', metrics=['accuracy'])"
      ]
    },
    {
      "cell_type": "code",
      "execution_count": null,
      "id": "35d3e6da",
      "metadata": {
        "id": "35d3e6da"
      },
      "outputs": [],
      "source": [
        "# Print the summary of the model\n",
        "model.summary()"
      ]
    },
    {
      "cell_type": "markdown",
      "id": "decent-preservation",
      "metadata": {
        "papermill": {
          "duration": 0.118001,
          "end_time": "2021-08-12T12:51:17.291111",
          "exception": false,
          "start_time": "2021-08-12T12:51:17.173110",
          "status": "completed"
        },
        "tags": [],
        "id": "decent-preservation"
      },
      "source": [
        "**Callbacks** -> Callbacks can help you fix bugs more quickly, and can help you build better models. They can help you visualize how your model’s training is going, and can even help prevent overfitting by implementing early stopping or customizing the learning rate on each iteration.<br><br>\n",
        "By definition, \"A callback is a set of functions to be applied at given stages of the training procedure. You can use callbacks to get a view on internal states and statistics of the model during training.\"\n",
        "\n",
        "In this notebook, I'll be using **TensorBoard, ModelCheckpoint and ReduceLROnPlateau** callback functions"
      ]
    },
    {
      "cell_type": "markdown",
      "id": "raising-finger",
      "metadata": {
        "papermill": {
          "duration": 0.118593,
          "end_time": "2021-08-12T12:51:18.117102",
          "exception": false,
          "start_time": "2021-08-12T12:51:17.998509",
          "status": "completed"
        },
        "tags": [],
        "id": "raising-finger"
      },
      "source": [
        "---"
      ]
    },
    {
      "cell_type": "markdown",
      "id": "tropical-addiction",
      "metadata": {
        "papermill": {
          "duration": 0.11741,
          "end_time": "2021-08-12T12:51:18.352758",
          "exception": false,
          "start_time": "2021-08-12T12:51:18.235348",
          "status": "completed"
        },
        "tags": [],
        "id": "tropical-addiction"
      },
      "source": [
        "# Training The Model"
      ]
    },
    {
      "cell_type": "code",
      "execution_count": null,
      "id": "conscious-attention",
      "metadata": {
        "execution": {
          "iopub.execute_input": "2021-08-12T12:51:18.834455Z",
          "iopub.status.busy": "2021-08-12T12:51:18.833718Z",
          "iopub.status.idle": "2021-08-12T12:53:34.321598Z",
          "shell.execute_reply": "2021-08-12T12:53:34.321041Z",
          "shell.execute_reply.started": "2021-08-12T12:47:39.207916Z"
        },
        "papermill": {
          "duration": 135.614192,
          "end_time": "2021-08-12T12:53:34.321779",
          "exception": false,
          "start_time": "2021-08-12T12:51:18.707587",
          "status": "completed"
        },
        "scrolled": true,
        "tags": [],
        "id": "conscious-attention"
      },
      "outputs": [],
      "source": [
        "# Train the model\n",
        "history = model.fit(X_train, y_train, validation_split=0.1, epochs=12, verbose=1, batch_size=32,\n",
        "                    callbacks=[tensorboard, checkpoint, reduce_lr])\n"
      ]
    },
    {
      "cell_type": "code",
      "execution_count": null,
      "id": "strange-johnson",
      "metadata": {
        "_kg_hide-input": true,
        "execution": {
          "iopub.execute_input": "2021-08-12T12:53:35.189817Z",
          "iopub.status.busy": "2021-08-12T12:53:35.188557Z",
          "iopub.status.idle": "2021-08-12T12:53:35.483478Z",
          "shell.execute_reply": "2021-08-12T12:53:35.483957Z",
          "shell.execute_reply.started": "2021-08-12T12:49:53.409717Z"
        },
        "papermill": {
          "duration": 0.723132,
          "end_time": "2021-08-12T12:53:35.484115",
          "exception": false,
          "start_time": "2021-08-12T12:53:34.760983",
          "status": "completed"
        },
        "tags": [],
        "id": "strange-johnson"
      },
      "outputs": [],
      "source": [
        "filterwarnings('ignore')\n",
        "\n",
        "epochs = [i for i in range(12)]\n",
        "fig, ax = plt.subplots(1,2,figsize=(14,7))\n",
        "train_acc = history.history['accuracy']\n",
        "train_loss = history.history['loss']\n",
        "val_acc = history.history['val_accuracy']\n",
        "val_loss = history.history['val_loss']\n",
        "\n",
        "fig.text(s='Epochs vs. Training and Validation Accuracy/Loss',size=18,fontweight='bold',\n",
        "             fontname='monospace',color=colors_dark[1],y=1,x=0.28,alpha=0.8)\n",
        "\n",
        "sns.despine()\n",
        "ax[0].plot(epochs, train_acc, marker='o',markerfacecolor=colors_green[2],color=colors_green[3],\n",
        "           label = 'Training Accuracy')\n",
        "ax[0].plot(epochs, val_acc, marker='o',markerfacecolor=colors_red[2],color=colors_red[3],\n",
        "           label = 'Validation Accuracy')\n",
        "ax[0].legend(frameon=False)\n",
        "ax[0].set_xlabel('Epochs')\n",
        "ax[0].set_ylabel('Accuracy')\n",
        "\n",
        "sns.despine()\n",
        "ax[1].plot(epochs, train_loss, marker='o',markerfacecolor=colors_green[2],color=colors_green[3],\n",
        "           label ='Training Loss')\n",
        "ax[1].plot(epochs, val_loss, marker='o',markerfacecolor=colors_red[2],color=colors_red[3],\n",
        "           label = 'Validation Loss')\n",
        "ax[1].legend(frameon=False)\n",
        "ax[1].set_xlabel('Epochs')\n",
        "ax[1].set_ylabel('Training & Validation Loss')\n",
        "\n",
        "fig.show()"
      ]
    },
    {
      "cell_type": "markdown",
      "id": "floppy-collapse",
      "metadata": {
        "papermill": {
          "duration": 0.405924,
          "end_time": "2021-08-12T12:53:36.290693",
          "exception": false,
          "start_time": "2021-08-12T12:53:35.884769",
          "status": "completed"
        },
        "tags": [],
        "id": "floppy-collapse"
      },
      "source": [
        "---"
      ]
    },
    {
      "cell_type": "markdown",
      "id": "opening-traveler",
      "metadata": {
        "papermill": {
          "duration": 0.407254,
          "end_time": "2021-08-12T12:53:37.100952",
          "exception": false,
          "start_time": "2021-08-12T12:53:36.693698",
          "status": "completed"
        },
        "tags": [],
        "id": "opening-traveler"
      },
      "source": [
        "# Prediction"
      ]
    },
    {
      "cell_type": "markdown",
      "id": "dress-serial",
      "metadata": {
        "papermill": {
          "duration": 0.402509,
          "end_time": "2021-08-12T12:53:37.901770",
          "exception": false,
          "start_time": "2021-08-12T12:53:37.499261",
          "status": "completed"
        },
        "tags": [],
        "id": "dress-serial"
      },
      "source": [
        "I've used the *argmax function* as each row from the prediction array contains four values for the respective labels. The **maximum** value which is in each row depicts the predicted output out of the 4 possible outcomes.<br>\n",
        "So with *argmax*, I'm able to find out the index associated with the predicted outcome."
      ]
    },
    {
      "cell_type": "code",
      "execution_count": null,
      "id": "spread-dietary",
      "metadata": {
        "execution": {
          "iopub.execute_input": "2021-08-12T12:53:38.710015Z",
          "iopub.status.busy": "2021-08-12T12:53:38.708184Z",
          "iopub.status.idle": "2021-08-12T12:53:40.585283Z",
          "shell.execute_reply": "2021-08-12T12:53:40.584305Z",
          "shell.execute_reply.started": "2021-08-12T12:49:53.735266Z"
        },
        "papermill": {
          "duration": 2.280852,
          "end_time": "2021-08-12T12:53:40.585432",
          "exception": false,
          "start_time": "2021-08-12T12:53:38.304580",
          "status": "completed"
        },
        "tags": [],
        "id": "spread-dietary"
      },
      "outputs": [],
      "source": [
        "pred = model.predict(X_test)\n",
        "pred = np.argmax(pred,axis=1)\n",
        "y_test_new = np.argmax(y_test,axis=1)"
      ]
    },
    {
      "cell_type": "markdown",
      "id": "competitive-barrier",
      "metadata": {
        "papermill": {
          "duration": 0.404942,
          "end_time": "2021-08-12T12:53:41.390817",
          "exception": false,
          "start_time": "2021-08-12T12:53:40.985875",
          "status": "completed"
        },
        "tags": [],
        "id": "competitive-barrier"
      },
      "source": [
        "---"
      ]
    },
    {
      "cell_type": "markdown",
      "id": "worse-survivor",
      "metadata": {
        "papermill": {
          "duration": 0.455881,
          "end_time": "2021-08-12T12:53:42.246934",
          "exception": false,
          "start_time": "2021-08-12T12:53:41.791053",
          "status": "completed"
        },
        "tags": [],
        "id": "worse-survivor"
      },
      "source": [
        "# Evaluation"
      ]
    },
    {
      "cell_type": "markdown",
      "id": "numerical-universal",
      "metadata": {
        "papermill": {
          "duration": 0.58633,
          "end_time": "2021-08-12T12:53:43.481913",
          "exception": false,
          "start_time": "2021-08-12T12:53:42.895583",
          "status": "completed"
        },
        "tags": [],
        "id": "numerical-universal"
      },
      "source": [
        "In this, <br>\n",
        "0 - Glioma Tumor<br>\n",
        "1 - No Tumor<br>\n",
        "2 - Meningioma Tumor<br>\n",
        "3 - Pituitary Tumor<br>"
      ]
    },
    {
      "cell_type": "code",
      "execution_count": null,
      "id": "corporate-links",
      "metadata": {
        "execution": {
          "iopub.execute_input": "2021-08-12T12:53:44.294804Z",
          "iopub.status.busy": "2021-08-12T12:53:44.293931Z",
          "iopub.status.idle": "2021-08-12T12:53:44.302216Z",
          "shell.execute_reply": "2021-08-12T12:53:44.302954Z",
          "shell.execute_reply.started": "2021-08-12T12:49:55.565392Z"
        },
        "papermill": {
          "duration": 0.417934,
          "end_time": "2021-08-12T12:53:44.303153",
          "exception": false,
          "start_time": "2021-08-12T12:53:43.885219",
          "status": "completed"
        },
        "tags": [],
        "id": "corporate-links"
      },
      "outputs": [],
      "source": [
        "print(classification_report(y_test_new,pred))"
      ]
    },
    {
      "cell_type": "code",
      "execution_count": null,
      "id": "passive-thermal",
      "metadata": {
        "_kg_hide-input": true,
        "execution": {
          "iopub.execute_input": "2021-08-12T12:53:45.381020Z",
          "iopub.status.busy": "2021-08-12T12:53:45.380181Z",
          "iopub.status.idle": "2021-08-12T12:53:45.619343Z",
          "shell.execute_reply": "2021-08-12T12:53:45.619848Z",
          "shell.execute_reply.started": "2021-08-12T12:49:55.579432Z"
        },
        "papermill": {
          "duration": 0.736535,
          "end_time": "2021-08-12T12:53:45.620014",
          "exception": false,
          "start_time": "2021-08-12T12:53:44.883479",
          "status": "completed"
        },
        "tags": [],
        "id": "passive-thermal"
      },
      "outputs": [],
      "source": [
        "fig,ax=plt.subplots(1,1,figsize=(14,7))\n",
        "sns.heatmap(confusion_matrix(y_test_new,pred),ax=ax,xticklabels=labels,yticklabels=labels,annot=True,\n",
        "           cmap=colors_green[::-1],alpha=0.7,linewidths=2,linecolor=colors_dark[3])\n",
        "fig.text(s='Heatmap of the Confusion Matrix',size=18,fontweight='bold',\n",
        "             fontname='monospace',color=colors_dark[1],y=0.92,x=0.28,alpha=0.8)\n",
        "\n",
        "plt.show()"
      ]
    }
  ],
  "metadata": {
    "kernelspec": {
      "display_name": "Python 3",
      "name": "python3"
    },
    "language_info": {
      "codemirror_mode": {
        "name": "ipython",
        "version": 3
      },
      "file_extension": ".py",
      "mimetype": "text/x-python",
      "name": "python",
      "nbconvert_exporter": "python",
      "pygments_lexer": "ipython3",
      "version": "3.11.3"
    },
    "papermill": {
      "default_parameters": {},
      "duration": 210.990581,
      "end_time": "2021-08-12T12:53:59.113552",
      "environment_variables": {},
      "exception": null,
      "input_path": "__notebook__.ipynb",
      "output_path": "__notebook__.ipynb",
      "parameters": {},
      "start_time": "2021-08-12T12:50:28.122971",
      "version": "2.3.3"
    },
    "colab": {
      "provenance": [],
      "machine_shape": "hm"
    },
    "accelerator": "TPU"
  },
  "nbformat": 4,
  "nbformat_minor": 5
}